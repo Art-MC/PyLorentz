{
 "cells": [
  {
   "cell_type": "markdown",
   "metadata": {},
   "source": [
    "- No difference between Linear superposition for 3D structure (with 2 layers at least) and compressing it down to 1 layer and mans phi. Probably need to do one good test with thick and non trivial z-change. \n",
    "- need to see how i can recreate some of the crossings that I'm seeing\n",
    "- start putting things into slides"
   ]
  },
  {
   "cell_type": "markdown",
   "metadata": {},
   "source": [
    "jesuz christ. so turns out mask can't be just ones... also I made the phase from linsup match the mansuripur algorithm, not that its necessarily right but at least its consistent now. So need to double check and make sure everything works, but then I'll be ready to start doing crossings. lol"
   ]
  },
  {
   "cell_type": "markdown",
   "metadata": {},
   "source": [
    "Make an S -shape with a bar underneath it, trying to recreate the D biskrymion image"
   ]
  },
  {
   "cell_type": "code",
   "execution_count": 1,
   "metadata": {},
   "outputs": [],
   "source": [
    "# %matplotlib notebook\n",
    "%matplotlib qt\n",
    "%load_ext autoreload\n",
    "%autoreload 2"
   ]
  },
  {
   "cell_type": "code",
   "execution_count": 2,
   "metadata": {},
   "outputs": [],
   "source": [
    "import numpy as np\n",
    "import sys as sys\n",
    "sys.path.append(\"../PyTIE/\")\n",
    "from comp_phase import mansPhi, linsupPhi\n",
    "from TIE_helper import *\n",
    "from sim_helper import *"
   ]
  },
  {
   "cell_type": "code",
   "execution_count": 3,
   "metadata": {},
   "outputs": [
    {
     "data": {
      "text/html": [
       "<style>.container { width:99% !important; }</style>"
      ],
      "text/plain": [
       "<IPython.core.display.HTML object>"
      ]
     },
     "metadata": {},
     "output_type": "display_data"
    }
   ],
   "source": [
    "np.set_printoptions(linewidth=110) \n",
    "from IPython.core.display import display, HTML\n",
    "display(HTML(\"<style>.container { width:99% !important; }</style>\"))"
   ]
  },
  {
   "cell_type": "code",
   "execution_count": 4,
   "metadata": {},
   "outputs": [],
   "source": [
    "dim = 64\n",
    "del_px = 16 # nm/pix\n",
    "\n",
    "b0 = 1e4 #Gauss default 1e4\n",
    "phi0 = 2.07e7 #Gauss*nm^2 \n",
    "\n",
    "thickness = 20 #nm\n",
    "lin_pre_B = 2*np.pi*b0/phi0 * thickness * del_px #thickness is thickness/pixel in nm "
   ]
  },
  {
   "cell_type": "markdown",
   "metadata": {},
   "source": [
    "# Test with simple structures"
   ]
  },
  {
   "cell_type": "markdown",
   "metadata": {},
   "source": [
    "## single layer skyrmion"
   ]
  },
  {
   "cell_type": "code",
   "execution_count": 7,
   "metadata": {},
   "outputs": [
    {
     "name": "stdout",
     "output_type": "stream",
     "text": [
      "4.173655123685298\n"
     ]
    }
   ],
   "source": [
    "mag_x, mag_y, mag_z = Bloch(dim, chirality = 'cw', pad = False, ir=0)\n",
    "mag_x = mag_x.reshape(dim,dim,1)\n",
    "mag_y = mag_y.reshape(dim,dim,1)\n",
    "mag_z = mag_z.reshape(dim,dim,1)\n",
    "q_bloch = winding(mag_x[:,:,0], mag_y[:,:,0], mag_z[:,:,0])"
   ]
  },
  {
   "cell_type": "code",
   "execution_count": 499,
   "metadata": {
    "scrolled": true
   },
   "outputs": [],
   "source": [
    "show_3D(mag_x, mag_y, mag_z, show_all = False)"
   ]
  },
  {
   "cell_type": "code",
   "execution_count": 238,
   "metadata": {},
   "outputs": [],
   "source": [
    "show_2D(mag_x[:,:,0], mag_y[:,:,0])"
   ]
  },
  {
   "cell_type": "code",
   "execution_count": 255,
   "metadata": {
    "code_folding": []
   },
   "outputs": [],
   "source": [
    "# Mansuripur algorithm\n",
    "ephi, mphi = std_mansPhi(mag_x[:,:,0], mag_y[:,:,0], \n",
    "                         del_px = del_px, b0=b0)"
   ]
  },
  {
   "cell_type": "code",
   "execution_count": 253,
   "metadata": {},
   "outputs": [
    {
     "name": "stdout",
     "output_type": "stream",
     "text": [
      "16.448415204937866 -5.068932353386093\n"
     ]
    }
   ],
   "source": [
    "show_im(mphi, title = 'MansPhi')\n",
    "print(np.max(mphi), np.min(mphi))"
   ]
  },
  {
   "cell_type": "code",
   "execution_count": 246,
   "metadata": {
    "code_folding": [],
    "scrolled": false
   },
   "outputs": [
    {
     "name": "stdout",
     "output_type": "stream",
     "text": [
      "nelems =  4096\n",
      "0.0%\n",
      "24.4%\n",
      "48.8%\n",
      "73.2%\n",
      "97.7%\n"
     ]
    }
   ],
   "source": [
    "# Linear superposition\n",
    "ephil, mphil = linsupPhi(mx=mag_x, my=mag_y, mz=mag_z, \n",
    "                       Dshp=np.ones(mag_x.shape), pre_B=lin_pre_B)"
   ]
  },
  {
   "cell_type": "code",
   "execution_count": 247,
   "metadata": {},
   "outputs": [
    {
     "name": "stdout",
     "output_type": "stream",
     "text": [
      "16.448667209976982 -5.07421129111004\n"
     ]
    }
   ],
   "source": [
    "show_im(mphil, title = \"linsup\")\n",
    "print(np.max(mphil), np.min(mphil))"
   ]
  },
  {
   "cell_type": "markdown",
   "metadata": {
    "heading_collapsed": true
   },
   "source": [
    "#### Calculate images and reconstruct"
   ]
  },
  {
   "cell_type": "code",
   "execution_count": 248,
   "metadata": {
    "hidden": true,
    "scrolled": true
   },
   "outputs": [
    {
     "name": "stdout",
     "output_type": "stream",
     "text": [
      "Total fov is 1024 nm\n",
      "0.8851845989781038 0.8394367713177051\n"
     ]
    }
   ],
   "source": [
    "defval = 100_000\n",
    "Tphi, im_ov, im_in, im_un = sim_images(mphil, ephil, del_px = del_px, \n",
    "                                       def_val = defval, add_random = False)\n",
    "show_sims(Tphi, im_ov, im_in, im_un)\n",
    "print(np.max(im_ov), np.min(im_ov))"
   ]
  },
  {
   "cell_type": "code",
   "execution_count": 249,
   "metadata": {
    "hidden": true,
    "scrolled": true
   },
   "outputs": [
    {
     "name": "stdout",
     "output_type": "stream",
     "text": [
      "aligning for defocus value:  100000  with no unflipped tfs\n",
      "Reconstructing with normal Laplacian method\n",
      "calling tie solver\n",
      "\n",
      "Reconstructing with sim_params\n",
      "Phase reconstruction completed.\n"
     ]
    }
   ],
   "source": [
    "recon_tifs = [im_un, im_in, im_ov]\n",
    "pscope = Microscope(E=200e3, Cs = 200.0e3, theta_c = 0.01e-3, def_spr = 80.0)\n",
    "ptie = SIM_params(recon_tifs[1],[defval], data_loc = 'blah', flip = False)\n",
    "# ptie.mask = np.ones(im_ov.shape)\n",
    "ptie.make_mask(recon_tifs)\n",
    "ptie.scale = del_px # nm/pix\n",
    "\n",
    "dataname = f'test'\n",
    "sym = False\n",
    "qc = None #0.005\n",
    "save = False #'b'\n",
    "\n",
    "results = tie_solver(ptie, recon_tifs, defval, pscope, \n",
    "                     dataname = dataname+'_', sym=sym, qc = qc, save=save)"
   ]
  },
  {
   "cell_type": "code",
   "execution_count": 256,
   "metadata": {
    "hidden": true
   },
   "outputs": [],
   "source": [
    "show_im(results['phase_m'])"
   ]
  },
  {
   "cell_type": "markdown",
   "metadata": {
    "heading_collapsed": true
   },
   "source": [
    "## triple layer"
   ]
  },
  {
   "cell_type": "code",
   "execution_count": 453,
   "metadata": {
    "hidden": true
   },
   "outputs": [
    {
     "data": {
      "text/plain": [
       "(64, 64, 3)"
      ]
     },
     "execution_count": 453,
     "metadata": {},
     "output_type": "execute_result"
    }
   ],
   "source": [
    "mag_x, mag_y, mag_z = Bloch(dim, chirality = 'cw', pad = True, ir=0)\n",
    "mag_x = mag_x.reshape(dim,dim,1)\n",
    "mag_y = mag_y.reshape(dim,dim,1)\n",
    "mag_z = mag_z.reshape(dim,dim,1)\n",
    "magx3 = np.tile(mag_x, (1,1,3))\n",
    "magy3 = np.tile(mag_y, (1,1,3))\n",
    "magz3 = np.tile(mag_z, (1,1,3))\n",
    "magx3.shape"
   ]
  },
  {
   "cell_type": "code",
   "execution_count": 455,
   "metadata": {
    "hidden": true
   },
   "outputs": [],
   "source": [
    "show_3D(magx3,magy3,magz3, show_all = True)"
   ]
  },
  {
   "cell_type": "code",
   "execution_count": 274,
   "metadata": {
    "hidden": true,
    "scrolled": true
   },
   "outputs": [
    {
     "name": "stdout",
     "output_type": "stream",
     "text": [
      "nelems =  12288\n",
      "0.0%\n",
      "8.14%\n",
      "16.3%\n",
      "24.4%\n",
      "32.6%\n",
      "40.7%\n",
      "48.8%\n",
      "57.0%\n",
      "65.1%\n",
      "73.2%\n",
      "81.4%\n",
      "89.5%\n",
      "97.7%\n"
     ]
    }
   ],
   "source": [
    "ephi_3, mphi_3 = linsupPhi(mx = magx3, my=magy3, mz=magz3, \n",
    "                           Dshp = np.ones(magx3.shape), pre_B = lin_pre_B)"
   ]
  },
  {
   "cell_type": "code",
   "execution_count": 277,
   "metadata": {
    "hidden": true
   },
   "outputs": [
    {
     "name": "stdout",
     "output_type": "stream",
     "text": [
      "Total fov is 1024 nm\n",
      "0.8839461454885921 0.8629569516073297\n"
     ]
    }
   ],
   "source": [
    "defval = 10_000\n",
    "Tphi_3, im_ov_3, im_in_3, im_un_3 = sim_images(mphi_3, ephi_3, del_px = del_px, def_val = defval)\n",
    "show_sims(Tphi_3, im_ov_3, im_in_3, im_un_3)\n",
    "print(np.max(im_ov_3), np.min(im_ov_3))"
   ]
  },
  {
   "cell_type": "markdown",
   "metadata": {
    "hidden": true
   },
   "source": [
    "#### Calculate images and reconstruct"
   ]
  },
  {
   "cell_type": "code",
   "execution_count": 278,
   "metadata": {
    "hidden": true,
    "scrolled": true
   },
   "outputs": [
    {
     "name": "stdout",
     "output_type": "stream",
     "text": [
      "aligning for defocus value:  10000  with no unflipped tfs\n",
      "Reconstructing with normal Laplacian method\n",
      "calling tie solver\n",
      "\n",
      "Reconstructing with sim_params\n",
      "Phase reconstruction completed.\n"
     ]
    }
   ],
   "source": [
    "recon_tifs = [im_un_3, im_in_3, im_ov_3]\n",
    "pscope = Microscope(E=200e3, Cs = 200.0e3, theta_c = 0.01e-3, def_spr = 80.0)\n",
    "ptie = SIM_params(recon_tifs[1],[defval], data_loc = 'blah', flip = False)\n",
    "# ptie.mask = np.ones(im_ov.shape)\n",
    "ptie.make_mask(recon_tifs)\n",
    "ptie.scale = del_px # nm/pix\n",
    "\n",
    "dataname = f'test'\n",
    "sym = False\n",
    "qc = None #0.005\n",
    "save = False #'b'\n",
    "\n",
    "results = tie_solver(ptie, recon_tifs, defval, pscope, \n",
    "                     dataname = dataname+'_', sym=sym, qc = qc, save=save)"
   ]
  },
  {
   "cell_type": "markdown",
   "metadata": {
    "heading_collapsed": true
   },
   "source": [
    "## Test/uniform magnetization comparisons"
   ]
  },
  {
   "cell_type": "code",
   "execution_count": 602,
   "metadata": {
    "hidden": true
   },
   "outputs": [],
   "source": [
    "dim = 64\n",
    "del_px = 16 # nm/pix\n",
    "\n",
    "b0 = 1e4 #Gauss default 1e4\n",
    "phi0 = 2.07e7 #Gauss*nm^2 \n",
    "\n",
    "thickness = 0.5 #nm per z layer\n",
    "lin_pre_B = 2*np.pi*b0/phi0 * thickness * del_px #thickness is thickness/pixel in nm "
   ]
  },
  {
   "cell_type": "code",
   "execution_count": 630,
   "metadata": {
    "hidden": true
   },
   "outputs": [],
   "source": [
    "d = 50\n",
    "mag_x = np.zeros([dim,dim,d])\n",
    "mag_y = np.zeros([dim,dim,d])\n",
    "mag_z = np.zeros([dim,dim,d])\n",
    "\n",
    "# mag_x[dim//4:3*dim//4,dim//4:3*dim//4,:] = 1\n",
    "# mag_y[dim//4:3*dim//4,dim//4:3*dim//4,:] = 0\n",
    "\n",
    "for i in range(d):\n",
    "    mag_z[dim//4:3*dim//4,dim//4:3*dim//4,i] = 0.25*np.cos(np.pi*i/d)\n",
    "    mag_x[dim//4:3*dim//4,dim//4:3*dim//4,i] = np.sin(np.pi*i/d)\n",
    "    mag_y[dim//4:3*dim//4,dim//4:3*dim//4,i] = np.sin(2*np.pi*i/d)\n",
    "\n",
    "\n",
    "Dshp = np.zeros([dim,dim,d])\n",
    "Dshp[dim//4:3*dim//4,dim//4:3*dim//4,:] = 1\n",
    "\n",
    "# mag_z[32:64,32:96] = 1\n",
    "# mag_z[32:64,64:96] = -1\n",
    "# mag_z[64:96,32:96] = .5\n",
    "# mag_z[64:96,64:96] = -.5"
   ]
  },
  {
   "cell_type": "code",
   "execution_count": 614,
   "metadata": {
    "hidden": true
   },
   "outputs": [],
   "source": [
    "show_3D(mag_x*Dshp,mag_y*Dshp,mag_z*Dshp, show_all = True, za = 5)"
   ]
  },
  {
   "cell_type": "markdown",
   "metadata": {
    "hidden": true
   },
   "source": [
    "if compressing to 2D"
   ]
  },
  {
   "cell_type": "code",
   "execution_count": 634,
   "metadata": {
    "hidden": true
   },
   "outputs": [],
   "source": [
    "mag_x = np.sum(mag_x, axis = 2)\n",
    "mag_y = np.sum(mag_y, axis = 2)\n",
    "mag_z = np.sum(mag_z, axis = 2)\n",
    "Dshp = Dshp[:,:,0]\n",
    "\n",
    "mag_x = mag_x.reshape(dim,dim,1)\n",
    "mag_y = mag_y.reshape(dim,dim,1)\n",
    "mag_z = mag_z.reshape(dim,dim,1)\n",
    "Dshp = Dshp.reshape(dim,dim,1)"
   ]
  },
  {
   "cell_type": "code",
   "execution_count": 616,
   "metadata": {
    "hidden": true
   },
   "outputs": [],
   "source": [
    "show_2D(mag_x[:,:,0], mag_y[:,:,0])"
   ]
  },
  {
   "cell_type": "code",
   "execution_count": 640,
   "metadata": {
    "code_folding": [],
    "hidden": true
   },
   "outputs": [],
   "source": [
    "# Mansuripur algorithm\n",
    "ephi, mphi = std_mansPhi(mag_x[:,:,0], mag_y[:,:,0], \n",
    "                         del_px = del_px, b0=b0/(20/thickness))"
   ]
  },
  {
   "cell_type": "markdown",
   "metadata": {
    "hidden": true
   },
   "source": [
    "Linsup calculating"
   ]
  },
  {
   "cell_type": "code",
   "execution_count": 635,
   "metadata": {
    "hidden": true,
    "scrolled": true
   },
   "outputs": [
    {
     "name": "stdout",
     "output_type": "stream",
     "text": [
      "nelems =  1024\n",
      "0.0%\n",
      "97.7%\n"
     ]
    }
   ],
   "source": [
    "ephi, mphi = linsupPhi(mx = mag_x, my=mag_y, mz=mag_z, Dshp = Dshp, pre_B = lin_pre_B)"
   ]
  },
  {
   "cell_type": "code",
   "execution_count": 642,
   "metadata": {
    "hidden": true
   },
   "outputs": [
    {
     "name": "stdout",
     "output_type": "stream",
     "text": [
      "Total fov is 1024 nm\n",
      "saving to ../../sim_data/Linsup/through_z/\n",
      "0.9057893622460705 0.8334990743415445\n"
     ]
    }
   ],
   "source": [
    "path = '../../sim_data/Linsup/through_z/'\n",
    "defval = 50_000\n",
    "Tphi, im_ov, im_in, im_un = sim_images(mphi, ephi, del_px = del_px, \n",
    "                                       def_val = defval, path = path)\n",
    "show_sims(Tphi, im_ov, im_in, im_un)\n",
    "print(np.max(im_ov), np.min(im_ov))"
   ]
  },
  {
   "cell_type": "markdown",
   "metadata": {
    "hidden": true
   },
   "source": [
    "#### Calculate images and reconstruct"
   ]
  },
  {
   "cell_type": "code",
   "execution_count": 643,
   "metadata": {
    "hidden": true,
    "scrolled": true
   },
   "outputs": [
    {
     "name": "stdout",
     "output_type": "stream",
     "text": [
      "aligning for defocus value:  50000  with no unflipped tfs\n",
      "Reconstructing with normal Laplacian method\n",
      "calling tie solver\n",
      "\n",
      "Reconstructing with sim_params\n",
      "saving images\n",
      "Phase reconstruction completed.\n"
     ]
    }
   ],
   "source": [
    "recon_tifs = [im_un, im_in, im_ov]\n",
    "pscope = Microscope(E=200e3, Cs = 200.0e3, theta_c = 0.01e-3, def_spr = 80.0)\n",
    "ptie = SIM_params(recon_tifs[1],[defval], data_loc = path, flip = False)\n",
    "# ptie.mask = np.ones(im_ov.shape)\n",
    "ptie.make_mask(recon_tifs)\n",
    "ptie.scale = del_px # nm/pix\n",
    "\n",
    "dataname = f'through_z_50_compressed_Mans'\n",
    "sym = False\n",
    "qc = None #0.005\n",
    "save = 'b'\n",
    "\n",
    "results = tie_solver(ptie, recon_tifs, defval, pscope, \n",
    "                     dataname = dataname+'_', sym=sym, qc = qc, save=save)"
   ]
  },
  {
   "cell_type": "code",
   "execution_count": 256,
   "metadata": {
    "hidden": true
   },
   "outputs": [],
   "source": [
    "show_im(results['phase_m'])"
   ]
  },
  {
   "cell_type": "code",
   "execution_count": null,
   "metadata": {
    "hidden": true
   },
   "outputs": [],
   "source": []
  },
  {
   "cell_type": "markdown",
   "metadata": {},
   "source": [
    "# Crossing patterns "
   ]
  },
  {
   "cell_type": "markdown",
   "metadata": {},
   "source": [
    "## Crossing bloch skyrmions"
   ]
  },
  {
   "cell_type": "code",
   "execution_count": 844,
   "metadata": {},
   "outputs": [],
   "source": [
    "dim = 64"
   ]
  },
  {
   "cell_type": "code",
   "execution_count": 845,
   "metadata": {},
   "outputs": [
    {
     "name": "stdout",
     "output_type": "stream",
     "text": [
      "32\n"
     ]
    }
   ],
   "source": [
    "rad = dim//2\n",
    "print(rad)"
   ]
  },
  {
   "cell_type": "code",
   "execution_count": 859,
   "metadata": {},
   "outputs": [],
   "source": [
    "ir = 0\n",
    "\n",
    "mcw = Bloch(dim, chirality = 'cw', pad = False, ir=ir)\n",
    "for mag in mcw:\n",
    "    mag = mag.reshape(dim,dim,1)\n",
    "# mcw = np.rollaxis(np.rollaxis(np.array(mcw), axis = 2), axis=2)\n",
    "mcw = np.array(mcw)\n",
    "\n",
    "mccw = Bloch(dim, chirality = 'ccw', pad = False, ir=ir)\n",
    "for mag in mccw:\n",
    "    mag = mag.reshape(dim,dim,1)\n",
    "# mccw = np.rollaxis(np.rollaxis(np.array(mccw), axis = 2), axis=2)\n",
    "mccw = np.array(mccw)"
   ]
  },
  {
   "cell_type": "code",
   "execution_count": 866,
   "metadata": {},
   "outputs": [],
   "source": [
    "d = 1\n",
    "mag_x = np.zeros([2*dim,2*dim,d])\n",
    "mag_y = np.zeros([2*dim,2*dim,d])\n",
    "mag_z = -1*np.zeros([2*dim,2*dim,d])\n",
    "\n",
    "sep = dim - 15\n",
    "\n",
    "c2 = [dim,dim//2 + sep,0]\n",
    "c1 = [dim,3*dim//2 - sep,1]\n",
    "\n",
    "mag_x[c1[0]-rad:c1[0]+rad,c1[1]-rad:c1[1]+rad,0] += mcw[0]\n",
    "mag_x[c2[0]-rad:c2[0]+rad,c2[1]-rad:c2[1]+rad,0] += mccw[0]\n",
    "\n",
    "mag_y[c1[0]-rad:c1[0]+rad,c1[1]-rad:c1[1]+rad,0] += mcw[1]\n",
    "mag_y[c2[0]-rad:c2[0]+rad,c2[1]-rad:c2[1]+rad,0] += mccw[1]\n",
    "\n",
    "mag_z[c1[0]-rad:c1[0]+rad,c1[1]-rad:c1[1]+rad,0] += mcw[2]\n",
    "mag_z[c2[0]-rad:c2[0]+rad,c2[1]-rad:c2[1]+rad,0] += mccw[2]\n",
    "\n",
    "bnd = 5\n",
    "Dshp = np.zeros(mag_x.shape)\n",
    "\n",
    "y1 = c1[0]-rad-bnd\n",
    "y2 = c2[0]+rad+bnd\n",
    "x1 = c1[1] - rad - bnd\n",
    "x2 = c2[1] + rad + bnd\n",
    "Dshp[int(y1):int(y2), int(x1):int(x2)] = 1"
   ]
  },
  {
   "cell_type": "code",
   "execution_count": 871,
   "metadata": {},
   "outputs": [],
   "source": [
    "show_3D(mag_x,mag_y,mag_z, a = 20, l = 5,  show_all = True)"
   ]
  },
  {
   "cell_type": "code",
   "execution_count": 843,
   "metadata": {},
   "outputs": [],
   "source": [
    "show_3D(mag_x*Dshp,mag_y*Dshp,mag_z*Dshp, a = 20,  show_all = True)"
   ]
  },
  {
   "cell_type": "markdown",
   "metadata": {},
   "source": [
    "if compressing to 2D"
   ]
  },
  {
   "cell_type": "code",
   "execution_count": 872,
   "metadata": {},
   "outputs": [],
   "source": [
    "mag_x = np.sum(mag_x, axis = 2)\n",
    "mag_y = np.sum(mag_y, axis = 2)\n",
    "mag_z = np.sum(mag_z, axis = 2)\n",
    "Dshp = Dshp[:,:,0]\n",
    "\n",
    "mag_x = mag_x.reshape(2*dim,2*dim,1)\n",
    "mag_y = mag_y.reshape(2*dim,2*dim,1)\n",
    "mag_z = mag_z.reshape(2*dim,2*dim,1)\n",
    "Dshp = Dshp.reshape(2*dim,2*dim,1)"
   ]
  },
  {
   "cell_type": "code",
   "execution_count": 863,
   "metadata": {},
   "outputs": [],
   "source": [
    "show_3D(mag_x,mag_y,mag_z, a = 20,  show_all = True)"
   ]
  },
  {
   "cell_type": "code",
   "execution_count": 857,
   "metadata": {},
   "outputs": [],
   "source": [
    "show_2D(mag_x[:,:,0], mag_y[:,:,0])"
   ]
  },
  {
   "cell_type": "code",
   "execution_count": 873,
   "metadata": {},
   "outputs": [
    {
     "name": "stdout",
     "output_type": "stream",
     "text": [
      "10.316069952677658\n"
     ]
    }
   ],
   "source": [
    "q_bisk = winding(mag_x[:,:,0], mag_y[:,:,0], mag_z[:,:,0])"
   ]
  },
  {
   "cell_type": "code",
   "execution_count": 874,
   "metadata": {
    "code_folding": []
   },
   "outputs": [],
   "source": [
    "# Mansuripur algorithm\n",
    "ephi, mphi = std_mansPhi(mag_x[:,:,0], mag_y[:,:,0], \n",
    "                         del_px = del_px, b0=b0)"
   ]
  },
  {
   "cell_type": "markdown",
   "metadata": {},
   "source": [
    "#### calculating phase and reconstructing "
   ]
  },
  {
   "cell_type": "code",
   "execution_count": 384,
   "metadata": {
    "scrolled": false
   },
   "outputs": [
    {
     "name": "stdout",
     "output_type": "stream",
     "text": [
      "nelems =  17464\n",
      "0.0%\n",
      "5.73%\n",
      "11.5%\n",
      "17.2%\n",
      "22.9%\n",
      "28.6%\n",
      "34.4%\n",
      "40.1%\n",
      "45.8%\n",
      "51.5%\n",
      "57.3%\n",
      "63.0%\n",
      "68.7%\n",
      "74.4%\n",
      "80.2%\n",
      "85.9%\n",
      "91.6%\n",
      "97.3%\n"
     ]
    }
   ],
   "source": [
    "ephi, mphi = linsupPhi(mx = mag_x, my=mag_y, mz=mag_z, Dshp = Dshp, pre_B = lin_pre_B)"
   ]
  },
  {
   "cell_type": "code",
   "execution_count": 875,
   "metadata": {},
   "outputs": [
    {
     "name": "stdout",
     "output_type": "stream",
     "text": [
      "Total fov is 2048 nm\n",
      "0.9175676210633743 0.8243970156257237\n"
     ]
    }
   ],
   "source": [
    "path = '../../sim_data/Linsup/3D_biskyrmion_2/'\n",
    "defval = 100_000\n",
    "Tphi, im_ov, im_in, im_un = sim_images(mphi, ephi, del_px = del_px, \n",
    "                                       def_val = defval, path = None)\n",
    "show_sims(Tphi, im_ov, im_in, im_un)\n",
    "print(np.max(im_ov), np.min(im_ov))"
   ]
  },
  {
   "cell_type": "code",
   "execution_count": 876,
   "metadata": {
    "scrolled": true
   },
   "outputs": [
    {
     "name": "stdout",
     "output_type": "stream",
     "text": [
      "aligning for defocus value:  100000  with no unflipped tfs\n",
      "Reconstructing with normal Laplacian method\n",
      "calling tie solver\n",
      "\n",
      "Reconstructing with sim_params\n",
      "Phase reconstruction completed.\n"
     ]
    }
   ],
   "source": [
    "recon_tifs = [im_un, im_in, im_ov]\n",
    "pscope = Microscope(E=200e3, Cs = 200.0e3, theta_c = 0.01e-3, def_spr = 80.0)\n",
    "ptie = SIM_params(recon_tifs[1],[defval], data_loc = path, flip = False)\n",
    "# ptie.mask = np.ones(im_ov.shape)\n",
    "ptie.make_mask(recon_tifs)\n",
    "ptie.scale = del_px # nm/pix\n",
    "\n",
    "dataname = f'2layer_biskyrmion_narrow_compressed2D_Mans'\n",
    "sym = False\n",
    "qc = None #0.005\n",
    "save = False#'b'\n",
    "\n",
    "results = tie_solver(ptie, recon_tifs, defval, pscope, \n",
    "                     dataname = dataname+'_', sym=sym, qc = qc, save=save)"
   ]
  },
  {
   "cell_type": "code",
   "execution_count": 877,
   "metadata": {},
   "outputs": [],
   "source": [
    "show_im(results['bbt'])"
   ]
  },
  {
   "cell_type": "code",
   "execution_count": null,
   "metadata": {},
   "outputs": [],
   "source": []
  },
  {
   "cell_type": "code",
   "execution_count": null,
   "metadata": {},
   "outputs": [],
   "source": []
  },
  {
   "cell_type": "markdown",
   "metadata": {},
   "source": [
    "# Calculate winding number of mag"
   ]
  },
  {
   "cell_type": "code",
   "execution_count": 827,
   "metadata": {},
   "outputs": [],
   "source": [
    "mag_x, mag_y, mag_z = Bloch(64, chirality = 'ccw', pad = True, ir=0)\n",
    "# mag_x = mag_x.reshape(dim,dim,1)\n",
    "# mag_y = mag_y.reshape(dim,dim,1)\n",
    "# mag_z = mag_z.reshape(dim,dim,1)"
   ]
  },
  {
   "cell_type": "code",
   "execution_count": 808,
   "metadata": {},
   "outputs": [],
   "source": [
    "mag_x = np.zeros([dim,dim])\n",
    "mag_y = np.zeros([dim,dim])\n",
    "mag_z = -1*np.ones([dim,dim])\n",
    "\n",
    "a=20\n",
    "b=5\n",
    "mag_x[a:-a,a:a+b] = -1\n",
    "mag_x[a:-a,-(b+a):-a] = 1\n",
    "mag_y[a:a+b,a:-a] = -1\n",
    "mag_y[-b-a:-a,a:-a] = 1\n",
    "mag_z[a:-a,a:-a] = 0\n",
    "mag_z[a+b:-(a+b),a+b:-(a+b)] = 1\n",
    "\n",
    "#winding number = 1, changes sign with z flipping. "
   ]
  },
  {
   "cell_type": "code",
   "execution_count": 809,
   "metadata": {},
   "outputs": [],
   "source": [
    "show_3D(mag_x, mag_y,mag_z)"
   ]
  },
  {
   "cell_type": "code",
   "execution_count": 6,
   "metadata": {},
   "outputs": [],
   "source": [
    "def winding(mag_x, mag_y, mag_z):\n",
    "    grad_xy, grad_xx = np.gradient(mag_x)\n",
    "    grad_yy, grad_yx = np.gradient(mag_y)\n",
    "    grad_zy, grad_zx = np.gradient(mag_y)\n",
    "\n",
    "    cp_x = grad_yx*grad_zy - grad_yy * grad_zx\n",
    "    cp_y = - grad_xx*grad_zy + grad_xy*grad_zx\n",
    "    cp_z = grad_xx*grad_yy - grad_yx*grad_xy\n",
    "\n",
    "    # show_im(cp_x, title = \"cp_x\")\n",
    "    # show_im(cp_y, title = \"cp_y\")\n",
    "    # show_im(cp_z, title = \"cp_z\")\n",
    "\n",
    "    dp = mag_x*cp_x + mag_y*cp_y + mag_z*cp_z\n",
    "    # show_im(dp)\n",
    "    q = np.sum(dp)\n",
    "    print(q)\n",
    "    return q"
   ]
  },
  {
   "cell_type": "code",
   "execution_count": 828,
   "metadata": {},
   "outputs": [
    {
     "name": "stdout",
     "output_type": "stream",
     "text": [
      "4.159922678009682\n"
     ]
    },
    {
     "data": {
      "text/plain": [
       "4.159922678009682"
      ]
     },
     "execution_count": 828,
     "metadata": {},
     "output_type": "execute_result"
    }
   ],
   "source": [
    "winding(mag_x, mag_y, mag_z)"
   ]
  },
  {
   "cell_type": "code",
   "execution_count": 667,
   "metadata": {},
   "outputs": [],
   "source": [
    "show_im(mag_x)"
   ]
  },
  {
   "cell_type": "code",
   "execution_count": 671,
   "metadata": {},
   "outputs": [],
   "source": [
    "show_im(grad_xx)"
   ]
  },
  {
   "cell_type": "code",
   "execution_count": 672,
   "metadata": {},
   "outputs": [],
   "source": [
    "show_im(grad_yy)"
   ]
  },
  {
   "cell_type": "code",
   "execution_count": null,
   "metadata": {},
   "outputs": [],
   "source": []
  }
 ],
 "metadata": {
  "kernelspec": {
   "display_name": "Python 3",
   "language": "python",
   "name": "python3"
  },
  "language_info": {
   "codemirror_mode": {
    "name": "ipython",
    "version": 3
   },
   "file_extension": ".py",
   "mimetype": "text/x-python",
   "name": "python",
   "nbconvert_exporter": "python",
   "pygments_lexer": "ipython3",
   "version": "3.7.6"
  },
  "varInspector": {
   "cols": {
    "lenName": 16,
    "lenType": 16,
    "lenVar": 40
   },
   "kernels_config": {
    "python": {
     "delete_cmd_postfix": "",
     "delete_cmd_prefix": "del ",
     "library": "var_list.py",
     "varRefreshCmd": "print(var_dic_list())"
    },
    "r": {
     "delete_cmd_postfix": ") ",
     "delete_cmd_prefix": "rm(",
     "library": "var_list.r",
     "varRefreshCmd": "cat(var_dic_list()) "
    }
   },
   "types_to_exclude": [
    "module",
    "function",
    "builtin_function_or_method",
    "instance",
    "_Feature"
   ],
   "window_display": false
  }
 },
 "nbformat": 4,
 "nbformat_minor": 2
}
