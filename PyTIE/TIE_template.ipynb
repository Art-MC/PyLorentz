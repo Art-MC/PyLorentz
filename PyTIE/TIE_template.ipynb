{
 "cells": [
  {
   "cell_type": "markdown",
   "metadata": {},
   "source": [
    "# TIE Reconstruction Template\n",
    "For solving the transport of intensity equation and finding magnetic induction from through-focal-series TEM images. \n",
    "  \n",
    "Authors: Arthur McCray, CD Phatak  \n",
    "V1.0, ANL, May 2020"
   ]
  },
  {
   "cell_type": "markdown",
   "metadata": {},
   "source": [
    "## Refer to readme file for instructions\n",
    "\n",
    "Required files:\n",
    "\n",
    "    TIE_reconstruct.py  -- main code that sets up and solves TIE  \n",
    "    TIE_params.py       -- class file for reconstruction parameters  \n",
    "    microscopes.py      -- class file for microscope parameters\n",
    "    TIE_helper.py       -- functions for loading data, making masks, etc.   \n",
    "    colorwheel.py       -- makes the colorwheel vectorfield representation image  \n",
    "  \n",
    "    stack_align.ipynb   -- interfaces with imagej to align images, not required \n",
    "                           but very helpful\n",
    "  \n",
    "\n",
    "### Future development\n",
    "* Apply polynomial fitting for the derivative"
   ]
  },
  {
   "cell_type": "code",
   "execution_count": null,
   "metadata": {
    "scrolled": false
   },
   "outputs": [],
   "source": [
    "%matplotlib notebook\n",
    "import numpy as np\n",
    "import matplotlib.pyplot as plt\n",
    "\n",
    "from microscopes import Microscope\n",
    "from TIE_helper import *\n",
    "from TIE_reconstruct import TIE, SITIE\n",
    "# will throw warning from hyperspy. You can also use the Qt5 backend with:\n",
    "# %matplotlib qt\n",
    "# This will get rid of the warning but won't work when running remotely. "
   ]
  },
  {
   "cell_type": "markdown",
   "metadata": {},
   "source": [
    "## Loading the data"
   ]
  },
  {
   "cell_type": "markdown",
   "metadata": {},
   "source": [
    "Please download the example dataset from: https://petreldata.net/mdf/detail/cphatak_pytie_example_v1.1/  \n",
    "This contains a full through focus series (tfs) with the sample in both flipped and unflipped orientations. "
   ]
  },
  {
   "cell_type": "markdown",
   "metadata": {},
   "source": [
    "If you have both a flip and unflip stack your raw images should be in two folders:  \n",
    "\n",
    "    datafolder/    flip/     -im1.dm3  \n",
    "                             -im2.dm3  \n",
    "                                ...  \n",
    "                             +im1.dm3  \n",
    "                             +im2.dm3  \n",
    "                                ...  \n",
    "                             0im.dm3    \n",
    "                   unflip/   -im1.dm3  \n",
    "                             -im2.dm3  \n",
    "                                 .  \n",
    "                                 .  \n",
    "                             +im1.dm3  \n",
    "                             +im2.dm3  \n",
    "                                 .  \n",
    "                                 .  \n",
    "                              0im.dm3  \n",
    "                   flsfile.fls \n",
    "                   full_align.tif  \n",
    "  \n",
    "If your flip and unflip filenames aren't the same you can also have two fls files, just add the argument  \n",
    "load_data(... , flip_fls_file = \"your/flip/fls/path\")"
   ]
  },
  {
   "cell_type": "markdown",
   "metadata": {},
   "source": [
    "However if you have just one stack (no flip stack) then your data should be in a folder labeled 'tfs' \n",
    "\n",
    "    datafolder/    tfs/      -im1.dm3  \n",
    "                             -im2.dm3  \n",
    "                                ...  \n",
    "                             +im1.dm3  \n",
    "                             +im2.dm3  \n",
    "                                ...  \n",
    "                              0im.dm3    \n",
    "                   flsfile.fls \n",
    "                   full_align.tif  "
   ]
  },
  {
   "cell_type": "code",
   "execution_count": null,
   "metadata": {
    "scrolled": true
   },
   "outputs": [],
   "source": [
    "# fill in the appropriate path *** \n",
    "data_loc = '../../ex_recon_data/PyTIE_MDF_data/'\n",
    "\n",
    "fls_name = \"dataset1.fls\"\n",
    "flip_fls_name = None # just one fls file\n",
    "stack_name = 'd1_full_align.tif' \n",
    "flip = True # there is/isn't a flipped tfs and flip_dm3stack\n",
    "\n",
    "dm3stack, flip_dm3stack, ptie = load_data(data_loc,\n",
    "                                          fls_name, \n",
    "                                          stack_name, \n",
    "                                          flip,\n",
    "                                          flip_fls_name)\n",
    "\n",
    "print(\"Defocus values: \", ptie.defvals)\n",
    "\n",
    "# microscope object\n",
    "altem = Microscope(E=200e3, Cs = 200.0e3, theta_c = 0.01e-3, def_spr = 80.0)"
   ]
  },
  {
   "cell_type": "code",
   "execution_count": null,
   "metadata": {},
   "outputs": [],
   "source": [
    "# Scroll through slices \n",
    "show_stack(dm3stack + flip_dm3stack)"
   ]
  },
  {
   "cell_type": "markdown",
   "metadata": {},
   "source": [
    "## Select a smaller image size (optional)\n",
    "* Default is 1/4 image size centered in the middle\n",
    "* Drag mask and corners to get the section you want to reconstruct\n",
    "    - It's finnicky, if the corner isn't dragging, try moving mouse cursor more slowly and make sure you're on the corner. \n",
    "    - if it still isn't working you can change ptie.roi by hand (it's in nm not pixels, convert with ptie.scale which is nm/pix)"
   ]
  },
  {
   "cell_type": "code",
   "execution_count": null,
   "metadata": {},
   "outputs": [],
   "source": [
    "ptie.select_region()"
   ]
  },
  {
   "cell_type": "code",
   "execution_count": null,
   "metadata": {
    "scrolled": true
   },
   "outputs": [],
   "source": [
    "### Run this when the region is what you want. \n",
    "ptie.crop_dm3s()"
   ]
  },
  {
   "cell_type": "code",
   "execution_count": null,
   "metadata": {},
   "outputs": [],
   "source": [
    "show_stack(ptie.dm3stack+ptie.flip_dm3stack, ptie)"
   ]
  },
  {
   "cell_type": "markdown",
   "metadata": {},
   "source": [
    "## The actual phase reconstruction\n",
    "\n",
    "* Set which focus values you want to use with index i \n",
    "* images will be saved as /dataloc/images/dataname_focusval_imagename.tif\n",
    "* if you want to symmetrize the images set sym = True\n",
    "* if you want to run with a Tikhonov frequency\n",
    "    - set qc = value that you want, (currently needs large values ~>10) or \n",
    "    - set qc = 'percent' and it will use 15% of q (not that it makes much difference) or\n",
    "    - leave qc = None and it will run normally\n",
    "* Save options:  \n",
    "    - True    -- saves all images results directory\n",
    "    - 'b'     -- saves 'color_b', 'bxt', 'byt'\n",
    "    - 'color' -- saves just 'color_b'\n",
    "    - False   -- Does not save images, but they can still be viewed in the notebook\n",
    "    - If any images are saved, a dataname_params.txt file will be saved as well giving reconstruction parameters. "
   ]
  },
  {
   "cell_type": "code",
   "execution_count": null,
   "metadata": {},
   "outputs": [],
   "source": [
    "print('actual defocus values: ', ptie.defvals)\n",
    "print('reconstruct with   i = ', '    0    ', '   1   ', '     2 ...')"
   ]
  },
  {
   "cell_type": "code",
   "execution_count": null,
   "metadata": {
    "scrolled": false
   },
   "outputs": [],
   "source": [
    "i = 2 # Select which defocus value you'll be working with if 3-point deriv \n",
    "dataname = 'example' \n",
    "sym = False\n",
    "qc = False # 0.001 is a reasonable value for the test dataset, matters more on some data\n",
    "save = False # True for saving all of results, 'b' will save 'color_b', 'bxt', and 'byt', 'color' will just save 'color_b'\n",
    "longitudinal_deriv = False # If false, uses central difference (3 point)\n",
    "hsv = True # If false, this will create a 4-fold colorwheel instead of an hsv colorwheel\n",
    "print(f'Set to reconstruct for defocus value: {ptie.defvals[i]} nm ')"
   ]
  },
  {
   "cell_type": "code",
   "execution_count": null,
   "metadata": {
    "scrolled": false
   },
   "outputs": [],
   "source": [
    "results = TIE(i, ptie, altem, \n",
    "                     dataname = dataname, \n",
    "                     sym=sym, \n",
    "                     qc = qc, \n",
    "                     save=save,\n",
    "                     hsv=hsv,\n",
    "                     long_deriv = longitudinal_deriv)"
   ]
  },
  {
   "cell_type": "markdown",
   "metadata": {},
   "source": [
    "## Viewing the images\n",
    "You can of course just look at the data where it's saved, but if you don't want to save it and move it to a local computer you can view the images here, they're all in the results dictionary. \n",
    "* Results: \n",
    "    - 'byt' : y-component of integrated magnetic induction,\n",
    "    - 'bxt' : x-copmonent of integrated magnetic induction,\n",
    "    - 'bbt' : magnitude of integrated magnetic induction, \n",
    "    - 'phase_m' : magnetic phase shift (radians),\n",
    "    - 'phase_e' : electrostatic phase shift (if using flip stack) (radians),\n",
    "    - 'dIdZ_m' : intensity derivative for calculating phase_m, (useful for troubleshooting)\n",
    "    - 'dIdZ_e' : intensity derivative for calculating phase_e (if using flip stack), \n",
    "    - 'color_b' : RGB image of magnetization,\n",
    "    - 'inf_im' : the in-focus image"
   ]
  },
  {
   "cell_type": "code",
   "execution_count": null,
   "metadata": {},
   "outputs": [],
   "source": [
    "show_im(results['phase_m'], 'magnetic phase shift')"
   ]
  },
  {
   "cell_type": "code",
   "execution_count": null,
   "metadata": {},
   "outputs": [],
   "source": [
    "show_im(results['phase_e'], 'electrostatic phase shift')"
   ]
  },
  {
   "cell_type": "code",
   "execution_count": null,
   "metadata": {
    "scrolled": false
   },
   "outputs": [],
   "source": [
    "## Show the image with a four-fold colorwheel instead of a 3-fold hsv colormap\n",
    "from colorwheel import color_im\n",
    "show_im(color_im(results['bxt'], results['byt'], hsvwheel=False), \"Magnetization with four-fold colormap\")"
   ]
  },
  {
   "cell_type": "markdown",
   "metadata": {},
   "source": [
    "### Single Image Reconstruction (SITIE)\n",
    "Uniformly thin magnetic samples can be reconstructed from a single defocused image if their only source of contrast is magnetic Fresnel contrast. For an example of this please see /SimLTEM/Sim_example.ipynb"
   ]
  },
  {
   "cell_type": "markdown",
   "metadata": {},
   "source": [
    "--- end notebook ---"
   ]
  }
 ],
 "metadata": {
  "kernelspec": {
   "display_name": "Python 3",
   "language": "python",
   "name": "python3"
  },
  "language_info": {
   "codemirror_mode": {
    "name": "ipython",
    "version": 3
   },
   "file_extension": ".py",
   "mimetype": "text/x-python",
   "name": "python",
   "nbconvert_exporter": "python",
   "pygments_lexer": "ipython3",
   "version": "3.7.4"
  },
  "latex_envs": {
   "LaTeX_envs_menu_present": true,
   "autoclose": false,
   "autocomplete": true,
   "bibliofile": "biblio.bib",
   "cite_by": "apalike",
   "current_citInitial": 1,
   "eqLabelWithNumbers": true,
   "eqNumInitial": 1,
   "hotkeys": {
    "equation": "Ctrl-E",
    "itemize": "Ctrl-I"
   },
   "labels_anchors": false,
   "latex_user_defs": false,
   "report_style_numbering": false,
   "user_envs_cfg": false
  },
  "notify_time": "30",
  "varInspector": {
   "cols": {
    "lenName": 16,
    "lenType": 16,
    "lenVar": 40
   },
   "kernels_config": {
    "python": {
     "delete_cmd_postfix": "",
     "delete_cmd_prefix": "del ",
     "library": "var_list.py",
     "varRefreshCmd": "print(var_dic_list())"
    },
    "r": {
     "delete_cmd_postfix": ") ",
     "delete_cmd_prefix": "rm(",
     "library": "var_list.r",
     "varRefreshCmd": "cat(var_dic_list()) "
    }
   },
   "position": {
    "height": "185.85px",
    "left": "1550px",
    "right": "20px",
    "top": "120px",
    "width": "350px"
   },
   "types_to_exclude": [
    "module",
    "function",
    "builtin_function_or_method",
    "instance",
    "_Feature"
   ],
   "window_display": false
  }
 },
 "nbformat": 4,
 "nbformat_minor": 2
}
