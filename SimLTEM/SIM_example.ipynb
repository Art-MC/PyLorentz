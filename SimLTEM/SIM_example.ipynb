{
 "cells": [
  {
   "cell_type": "markdown",
   "metadata": {},
   "source": [
    "# LTEM Image Simulation Example\n",
    "A few examples showing how to simulate LTEM images from a given magnetization. \n",
    "  \n",
    "Authors: Arthur McCray, CD Phatak\n",
    "V1.0, ANL, May 2020"
   ]
  },
  {
   "cell_type": "code",
   "execution_count": null,
   "metadata": {},
   "outputs": [],
   "source": [
    "%load_ext autoreload\n",
    "%autoreload 2"
   ]
  },
  {
   "cell_type": "code",
   "execution_count": null,
   "metadata": {},
   "outputs": [],
   "source": [
    "%matplotlib notebook\n",
    "import numpy as np\n",
    "import sys \n",
    "sys.path.append(\"../PyTIE/\")\n",
    "from TIE_helper import *\n",
    "from sim_helper import *\n",
    "from TIE_reconstruct import TIE, SITIE"
   ]
  },
  {
   "cell_type": "markdown",
   "metadata": {},
   "source": [
    "## First a couple examples creating single layer skyrmion magnetization structures\n",
    "You can click and drag to turn the show3D figures. "
   ]
  },
  {
   "cell_type": "code",
   "execution_count": null,
   "metadata": {},
   "outputs": [],
   "source": [
    "dim = 64\n",
    "Bloch_x2, Bloch_y2, Bloch_z2 = Lillihook(dim, Q = 1, gamma=3*np.pi/2)\n",
    "show_3D(Bloch_x2, Bloch_y2, Bloch_z2, show_all = True, l=2, a = 50)"
   ]
  },
  {
   "cell_type": "code",
   "execution_count": null,
   "metadata": {},
   "outputs": [],
   "source": [
    "anti_x, anti_y, anti_z = Lillihook(dim, rad=dim//4, Q = -1)\n",
    "show_3D(anti_x, anti_y, anti_z, show_all = False, l=2, a = 50)\n",
    "show_2D(anti_x, anti_y, l=10, a = 50)"
   ]
  },
  {
   "cell_type": "markdown",
   "metadata": {},
   "source": [
    "## Calculating the phase shift from a Bloch vortex with the Mansuripur algorithm  \n",
    "This can only be applied to 2D magnetizations. For more details seee [this paper by Mansuripur](https://doi.org/10.1063/1.348682).   \n",
    "It can be applied easily to island structures using the shape argument which takes a 2D binary array.  \n",
    "std_mansPhi is for a a basic example with fixed materials parameters, but for most work one should call mansPhi directly. "
   ]
  },
  {
   "cell_type": "code",
   "execution_count": null,
   "metadata": {},
   "outputs": [],
   "source": [
    "dim = 64\n",
    "del_px = 10 # nm/pixel\n",
    "Bloch_x, Bloch_y, Bloch_z = Bloch(dim, chirality = 'cw', pad = True, ir=0)\n",
    "show_3D(Bloch_x, Bloch_y, Bloch_z, show_all = True, l=2, a = 50)\n",
    "\n",
    "ephi, mphi = std_mansPhi(Bloch_x, Bloch_y, Bloch_z, del_px = del_px)\n",
    "show_im(mphi, title=\"magnetic phase shift\")"
   ]
  },
  {
   "cell_type": "markdown",
   "metadata": {},
   "source": [
    "### Simulating LTEM images from the phase shift"
   ]
  },
  {
   "cell_type": "code",
   "execution_count": null,
   "metadata": {},
   "outputs": [],
   "source": [
    "# Simulate LTEM images\n",
    "defval = 50_000\n",
    "Tphi, im_ov, im_in, im_un = sim_images(mphi, ephi, \n",
    "                                       del_px = del_px, \n",
    "                                       def_val = defval)\n",
    "show_sims(Tphi, im_ov, im_in, im_un)"
   ]
  },
  {
   "cell_type": "markdown",
   "metadata": {},
   "source": [
    "## Getting magnetic and electrostatic phase shift with the linear superposition method  \n",
    "This method works with 3D magnetization structures but is slower. "
   ]
  },
  {
   "cell_type": "code",
   "execution_count": null,
   "metadata": {},
   "outputs": [],
   "source": [
    "dim = 64\n",
    "del_px = 10 # nm/pix\n",
    "b0 = 1e4 #Gauss default 1e4\n",
    "phi0 = 2.07e7 #Gauss*nm^2 \n",
    "cb = b0/phi0*del_px**2 #1/px^2\n",
    "pre_B = 2*np.pi*cb\n",
    "ephi_L, mphi_L = linsupPhi(mx=Bloch_x.reshape(dim,dim,1),\n",
    "                           my=Bloch_y.reshape(dim,dim,1),\n",
    "                           mz=Bloch_z.reshape(dim,dim,1), \n",
    "                           Dshp=np.ones(Bloch_z.reshape(dim,dim,1).shape), \n",
    "                           pre_B=pre_B)"
   ]
  },
  {
   "cell_type": "code",
   "execution_count": null,
   "metadata": {
    "scrolled": true
   },
   "outputs": [],
   "source": [
    "# Simulate LTEM images\n",
    "defval = 50_000\n",
    "Tphi, im_ov, im_in, im_un = sim_images(mphi_L, ephi_L, \n",
    "                                       del_px = del_px, \n",
    "                                       def_val = defval)\n",
    "show_sims(Tphi, im_ov, im_in, im_un)"
   ]
  },
  {
   "cell_type": "markdown",
   "metadata": {},
   "source": [
    "# Full example simulating and reconstructing images from a given magnetization"
   ]
  },
  {
   "cell_type": "code",
   "execution_count": null,
   "metadata": {},
   "outputs": [],
   "source": [
    "# slightly larger image this time, using Mansuripur algorithm for speed\n",
    "dim = 512\n",
    "del_px = 500/dim\n",
    "\n",
    "Bloch_x, Bloch_y, Bloch_z = Bloch(dim, chirality = 'cw', pad = True)\n",
    "ephi, mphi = std_mansPhi(Bloch_x, Bloch_y, Bloch_z, del_px = del_px)\n",
    "\n",
    "defval = 50_000\n",
    "Tphi, im_ov, im_in, im_un = sim_images(mphi, ephi, \n",
    "                                       del_px = del_px, \n",
    "                                       def_val = defval)"
   ]
  },
  {
   "cell_type": "markdown",
   "metadata": {},
   "source": [
    "### Reconstructing with full TIE  \n",
    "Uniformly thin film, so no need for a flip stack. "
   ]
  },
  {
   "cell_type": "code",
   "execution_count": null,
   "metadata": {},
   "outputs": [],
   "source": [
    "pscope = Microscope(E=200e3, Cs = 200.0e3, theta_c = 0.01e-3, def_spr = 80.0)\n",
    "ptie = TIE_params(dm3stack=[im_un, im_in, im_ov], defvals=[defval], flip=False)\n",
    "ptie.make_mask()\n",
    "ptie.scale = del_px\n",
    "\n",
    "i = 0 \n",
    "dataname = f'Example_Bloch' \n",
    "sym = False\n",
    "qc = False\n",
    "save = False\n",
    "\n",
    "results = TIE(i, ptie, pscope, \n",
    "                     dataname = dataname, \n",
    "                     sym=sym, \n",
    "                     qc = qc, \n",
    "                     save=save)"
   ]
  },
  {
   "cell_type": "markdown",
   "metadata": {},
   "source": [
    "### Single Image TIE (SITIE) Reconstruction \n",
    "Example showing how this magnetization can be reconsutructed from a single image.  \n",
    "This can be applied to experimental images that are uniformly flat, thin, and with only magnetic contrast.  \n",
    "For more information see [this paper by Chess et. al](https://doi.org/10.1016/j.ultramic.2017.02.004). "
   ]
  },
  {
   "cell_type": "code",
   "execution_count": null,
   "metadata": {},
   "outputs": [],
   "source": [
    "pscope = Microscope(E=200e3, Cs = 200.0e3, theta_c = 0.01e-3, def_spr = 80.0)\n",
    "ptie_SITIE = TIE_params(im_ov, [], defval)\n",
    "ptie_SITIE.scale = del_px\n",
    "\n",
    "dataname = 'Example_SITIE_Bloch' \n",
    "sym = False\n",
    "qc = False\n",
    "save = False\n",
    "\n",
    "results = SITIE(ptie_SITIE, pscope, \n",
    "                     dataname = dataname, \n",
    "                     sym=sym, \n",
    "                     qc = qc, \n",
    "                     save=save)"
   ]
  },
  {
   "cell_type": "markdown",
   "metadata": {},
   "source": [
    "#### This can also be done with the original ptie, selecting image with an index from the dm3stack. "
   ]
  },
  {
   "cell_type": "code",
   "execution_count": null,
   "metadata": {},
   "outputs": [],
   "source": [
    "results = SITIE(ptie, pscope, \n",
    "                     dataname = dataname, \n",
    "                     sym=sym, \n",
    "                     qc = qc, \n",
    "                     save=save,\n",
    "                     i=0, # for i=1 will try to reconstruct the infocus image and won't work. \n",
    "                     flipstack = False) # True -> reconstruct with flipped image. Result will be flipped too. "
   ]
  },
  {
   "cell_type": "markdown",
   "metadata": {},
   "source": [
    "--- End Notebook ---"
   ]
  }
 ],
 "metadata": {
  "kernelspec": {
   "display_name": "Python 3",
   "language": "python",
   "name": "python3"
  },
  "language_info": {
   "codemirror_mode": {
    "name": "ipython",
    "version": 3
   },
   "file_extension": ".py",
   "mimetype": "text/x-python",
   "name": "python",
   "nbconvert_exporter": "python",
   "pygments_lexer": "ipython3",
   "version": "3.7.6"
  },
  "varInspector": {
   "cols": {
    "lenName": 16,
    "lenType": 16,
    "lenVar": 40
   },
   "kernels_config": {
    "python": {
     "delete_cmd_postfix": "",
     "delete_cmd_prefix": "del ",
     "library": "var_list.py",
     "varRefreshCmd": "print(var_dic_list())"
    },
    "r": {
     "delete_cmd_postfix": ") ",
     "delete_cmd_prefix": "rm(",
     "library": "var_list.r",
     "varRefreshCmd": "cat(var_dic_list()) "
    }
   },
   "types_to_exclude": [
    "module",
    "function",
    "builtin_function_or_method",
    "instance",
    "_Feature"
   ],
   "window_display": false
  }
 },
 "nbformat": 4,
 "nbformat_minor": 4
}
