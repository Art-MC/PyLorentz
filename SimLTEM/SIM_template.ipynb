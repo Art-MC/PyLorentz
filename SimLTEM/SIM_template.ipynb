{
 "cells": [
  {
   "cell_type": "markdown",
   "metadata": {},
   "source": [
    "# LTEM Image Simulation Example Notebook\n",
    "This notebook gives examples of how to simulate and reconstruct LTEM images from a given magnetization. The first section presents an all-in-one function that takes a magnetization vector output file, the various materials and imaging parameters, and returns a TIE reconstructed image set.  \n",
    "\n",
    "The following sections breaks down the process into the components: magnetization images $\\rightarrow$ phase shift $\\rightarrow$ LTEM images $\\rightarrow$ reconstructed magnetizations.\n",
    "  \n",
    "Authors: Arthur McCray, CD Phatak\n",
    "V1.0, ANL, June 2020"
   ]
  },
  {
   "cell_type": "code",
   "execution_count": null,
   "metadata": {},
   "outputs": [],
   "source": [
    "%load_ext autoreload\n",
    "%autoreload 2"
   ]
  },
  {
   "cell_type": "code",
   "execution_count": null,
   "metadata": {},
   "outputs": [],
   "source": [
    "%matplotlib notebook\n",
    "import numpy as np\n",
    "import sys \n",
    "sys.path.append(\"../PyTIE/\")\n",
    "from TIE_helper import *\n",
    "from sim_helper import *\n",
    "from TIE_reconstruct import TIE, SITIE\n",
    "from comp_phase import mansPhi, linsupPhi"
   ]
  },
  {
   "cell_type": "markdown",
   "metadata": {},
   "source": [
    "# Simulating from Micromagnetics Output \n",
    "reconstruct_ovf() is a single function that begins with a micromagnetics vector output file (.omf or .ovf) and simulates then reconstructs a LTEM through focus series (tfs). The final return is the results dictionary output by TIE(), and the number of images displayed and saved are controlled by simple arguments. There are many parameters that need to be set falling into two primary categories: materials parameters and imaging conditions. "
   ]
  },
  {
   "cell_type": "markdown",
   "metadata": {},
   "source": [
    "### Materials Parameters\n",
    "While the physical dimensions of the sample and voxel size are given in the datafile header, other material parameters are not. Additionally, for practical purposes many samples will be on a substrate or membrane of some sort which we can account for (while assuming it is of uniform thickness). Here we specify: \n",
    "* file: The file path. This function can load OVF 2.1/2.0 text files and most binaries as well, though it seems to fail with some binaries output from NanoHub.\n",
    "* sim: The simulation software used. Outputs from OOMMF and mumax require different scaling. Expects one of the following inputs: \n",
    "    - 'oommf': Assumes values given in A/m - scales by mu0\n",
    "    - 'mumax': Assumes vectors are normalized - scales by Msat\n",
    "    - 'raw': Does not scale vectors. \n",
    "* Msat: The saturation magnetization in gauss. \n",
    "* sample_V0: The sample mean inner potential in volts. \n",
    "* sample_xip0: The extinction distance for the sample in nm. \n",
    "* mem_thk: The thickness of the membrane in nm. \n",
    "* mem_xip0: The extinction distance for the membrane in nm. \n",
    "* thk_map: 2D array (y,x). Thickness values as factor of total thickness (zscale\\*zsize). If a 3D array is given, it will be summed along z axis. Pixels with thickness=0 will not have the phase calculated as a method to speed of computation time; if you want to calculate for all pixels then set thin regions to a small value e.g. 1e-9. Default None -> Uniform thickness as given by datafile, equivalent to array of 1's."
   ]
  },
  {
   "cell_type": "code",
   "execution_count": null,
   "metadata": {
    "scrolled": false
   },
   "outputs": [],
   "source": [
    "file = \"./example_oommf.omf\"\n",
    "sim = 'oommf'\n",
    "Msat = 1e4 # gauss\n",
    "sample_V0 = 20 # V\n",
    "sample_xip0 = 50 # nm\n",
    "mem_thk = 50 # nm\n",
    "mem_xip0 = 1000 # nm\n",
    "calc_region = None # defaults to full image\n",
    "thk_map = None # defaults to uniform thickness from the datafile. "
   ]
  },
  {
   "cell_type": "markdown",
   "metadata": {},
   "source": [
    "### Imaging conditions\n",
    "The final reconstruction is dependent on both the imaging conditions as well as the microscope itself. Microscope parameters are contained in a Microscope object (named pscope in the example below), making it easy to compare results in different simulated microscopes.  \n",
    "Parameters (the default value is given for parameters where it might often be used): \n",
    "- defval: The defocus at which to simulate images in nm (in-focus and +/- defval will be used for the tfs)\n",
    "- theta_x: The sample tilt around the x-axis (degrees). Default 0. \n",
    "- theta_y: The sample tilt around the y-axis (degrees). Default 0. \n",
    "- add_random: Whether to account for amorphous background in the sample. add_random=1 provides a moderate amount of background as scaled by the electrostatic phase shift. Other float values can be used to increase/decrease the intensity. Default 0. \n",
    "- flip: Whether to use a single tfs (False) or calculate a tfs for the sample in both orientations. For flat samples a single tfs is fine, though it's needed for samples with variable thickness (which can be controlled with the thk_map array). Default True. "
   ]
  },
  {
   "cell_type": "code",
   "execution_count": null,
   "metadata": {},
   "outputs": [],
   "source": [
    "pscope = Microscope(E=200e3, Cs = 200.0e3, theta_c = 0.01e-3, def_spr = 80.0, verbose=True)\n",
    "defval = 50_000 # nm\n",
    "theta_x = 0 # degrees\n",
    "theta_y = 0 # degrees\n",
    "add_random = 0 # scaling factor\n",
    "flip=True # Bool"
   ]
  },
  {
   "cell_type": "markdown",
   "metadata": {},
   "source": [
    "### Calculation Parameters and Run"
   ]
  },
  {
   "cell_type": "markdown",
   "metadata": {},
   "source": [
    "Finally there are some parameters that control the outputs given. \n",
    "* savename: String that will prepend all saved files.\n",
    "* save: Integer to control the amount of output that is saved; if saving, images and parameters files will be saved to subdirectories of wherever the datafile is located. \"/sim_tfs/\" will contain the tfs of the unflip and flip simulated images and a params.txt file with basic simulation parameters. \"/images/\" will contain TIE reconstruction output images. \n",
    "    - 0: Saves nothing, still returns results. \n",
    "    - 1: Default. Saves simulated images, simulated phase shift, and reconstructed magnetizations as both a color image and x/y components. \n",
    "    - 2: Saves simulated images, simulated phase shift, and all reconstruction TIE images. \n",
    "* v: Verbosity\n",
    "    - 0: Suppress all output\n",
    "    - 1: Default. Standard output with progress on phase shift calculations and displaying resulting image. \n",
    "    - 2: Extended output. Prints full datafile header and shows simulated phase shifts and tfs. \n"
   ]
  },
  {
   "cell_type": "code",
   "execution_count": null,
   "metadata": {
    "scrolled": false
   },
   "outputs": [],
   "source": [
    "savename = 'Example'\n",
    "save=0\n",
    "v=1\n",
    "\n",
    "results = reconstruct_ovf(file=file, sim=sim, save=save, savename=savename, v=v, \n",
    "                          flip=flip, pscope=pscope, defval=defval, theta_x=theta_x, \n",
    "                          theta_y=theta_y, add_random=add_random, thk_map=thk_map,\n",
    "                          Msat=Msat, sample_V0=sample_V0, sample_xip0=sample_xip0, \n",
    "                          mem_thk=mem_thk, mem_xip0=mem_xip0)"
   ]
  },
  {
   "cell_type": "markdown",
   "metadata": {},
   "source": [
    "### Comparing to the raw magnetization data: "
   ]
  },
  {
   "cell_type": "code",
   "execution_count": null,
   "metadata": {},
   "outputs": [],
   "source": [
    "from colorwheel import color_im\n",
    "mag_x, mag_y, mag_z, del_px, zscale = load_ovf(file, sim, Msat, v=0)\n",
    "show_im(color_im(np.sum(mag_x, axis=0), np.sum(mag_y,axis=0),hsvwheel=True), \"Raw magnetization data from file\")"
   ]
  },
  {
   "cell_type": "markdown",
   "metadata": {},
   "source": [
    "# Individual Simulation Components\n",
    "Here we show how to use the individual components of the simulation. Small constructed vortex states are used to reduce computation time. "
   ]
  },
  {
   "cell_type": "markdown",
   "metadata": {},
   "source": [
    "#### Creating a sample magnetization. "
   ]
  },
  {
   "cell_type": "code",
   "execution_count": null,
   "metadata": {
    "scrolled": false
   },
   "outputs": [],
   "source": [
    "dim = 64\n",
    "del_px = 10 # nm/pixel\n",
    "Bloch_x, Bloch_y, Bloch_z = Bloch(dim, chirality = 'cw', pad = True, ir=0)\n",
    "show_3D(Bloch_x, Bloch_y, Bloch_z, show_all = True, l=2, a = 50)\n",
    "show_2D(Bloch_x, Bloch_y, a=50, l=2, title='in-plane magnetization')"
   ]
  },
  {
   "cell_type": "markdown",
   "metadata": {},
   "source": [
    "## Getting magnetic and electrostatic phase shift with the linear superposition method  \n",
    "This is the technique used in reconstruct_ovf() to calculate the phase shift of an electron through a given magnetization. It has advantages of being applicable for 3D structures and it's easy to tilt the sample, but it is much slower than the Mansuripur algorithm that will be shown next. "
   ]
  },
  {
   "cell_type": "code",
   "execution_count": null,
   "metadata": {},
   "outputs": [],
   "source": [
    "del_px = 10 # nm/pix \n",
    "b0 = 1e4 # Gauss \n",
    "phi0 = 2.07e7 # Gauss*nm^2 \n",
    "cb = b0/phi0*del_px**2 # 1/px^2\n",
    "pre_B = 2*np.pi*cb\n",
    "ephi_L, mphi_L = linsupPhi(mx=Bloch_x.reshape(1,dim,dim),\n",
    "                           my=Bloch_y.reshape(1,dim,dim),\n",
    "                           mz=Bloch_z.reshape(1,dim,dim), \n",
    "                           Dshp=np.ones(Bloch_z.reshape(1,dim,dim).shape), \n",
    "                           pre_B=pre_B)\n",
    "show_im(mphi_L, \"Magnetic phase shift from linear superposition method\")"
   ]
  },
  {
   "cell_type": "markdown",
   "metadata": {},
   "source": [
    "## Calculating the phase shift with the Mansuripur algorithm  \n",
    "The Mansuripur algorithm is an established technique for calculating phase shifts through 2D magnetizations. It has the advantage of being much faster than the linear superposition method, though not as flexible. For more details seee [this paper by Mansuripur](https://doi.org/10.1063/1.348682).\n",
    "  \n",
    "It can be applied easily to island structures using the shape argument which takes a 2D binary array. Here we call std_mansPhi which sets up a basic example using default materials parameters. "
   ]
  },
  {
   "cell_type": "code",
   "execution_count": null,
   "metadata": {
    "scrolled": false
   },
   "outputs": [],
   "source": [
    "# Apply mansuripur algorithm with some standard materials parameters. \n",
    "ephi, mphi = std_mansPhi(Bloch_x, Bloch_y, del_px=del_px, isl_thk=del_px)\n",
    "show_im(mphi, title=\"magnetic phase shift from Mansuripur algorithm\")"
   ]
  },
  {
   "cell_type": "markdown",
   "metadata": {},
   "source": [
    "## Simulating LTEM images from the phase shift\n",
    "This is where the microscope parameters make the largest difference. "
   ]
  },
  {
   "cell_type": "code",
   "execution_count": null,
   "metadata": {
    "scrolled": false
   },
   "outputs": [],
   "source": [
    "# using the linear superposition phase \n",
    "pscope = Microscope(E=200e3,Cs = 200.0e3, theta_c = 0.01e-3, def_spr = 80.0)\n",
    "defval = 50_000\n",
    "Tphi, im_un, im_in, im_ov = sim_images(mphi=mphi_L, ephi=ephi_L, \n",
    "                                       pscope=pscope,\n",
    "                                       del_px=del_px, \n",
    "                                       def_val=defval,\n",
    "                                       add_random=0.1)\n",
    "show_sims(Tphi, im_un, im_in, im_ov)"
   ]
  },
  {
   "cell_type": "markdown",
   "metadata": {},
   "source": [
    "# Full example simulating and reconstructing images from a given magnetization\n",
    "We simulate the phase shift for a slightly larger region (using the Mansuripur algorithm for speed) and feed the simulated images into the TIE reconstruction routine. Because we specified a uniform sample, we do not need to use a through focus series of the flipped sample. "
   ]
  },
  {
   "cell_type": "code",
   "execution_count": null,
   "metadata": {},
   "outputs": [],
   "source": [
    "pscope = Microscope(E=200e3,Cs = 200.0e3, theta_c = 0.01e-3, def_spr = 80.0)\n",
    "dim = 512\n",
    "del_px = 500/dim\n",
    "\n",
    "Bloch_x, Bloch_y, Bloch_z = Bloch(dim, chirality = 'cw', pad = True)\n",
    "ephi, mphi = std_mansPhi(Bloch_x, Bloch_y, del_px = del_px, pscope=pscope)\n",
    "\n",
    "defval = 100_000\n",
    "Tphi, im_un, im_in, im_ov = sim_images(mphi = mphi, ephi = ephi, \n",
    "                                       pscope = pscope,\n",
    "                                       del_px = del_px, \n",
    "                                       def_val = defval,\n",
    "                                       add_random = 1)\n",
    "show_sims(Tphi, im_un, im_in, im_ov)"
   ]
  },
  {
   "cell_type": "code",
   "execution_count": null,
   "metadata": {
    "scrolled": false
   },
   "outputs": [],
   "source": [
    "ptie = TIE_params(imstack=[im_un, im_in, im_ov], defvals=[defval], flip=False, no_mask=True)\n",
    "ptie.set_scale(del_px)\n",
    "\n",
    "i = 0 \n",
    "dataname = f'Example_Bloch' \n",
    "sym = False\n",
    "qc = False\n",
    "save = False\n",
    "\n",
    "results = TIE(i, ptie, pscope, \n",
    "                     dataname = dataname, \n",
    "                     sym=sym, \n",
    "                     qc = qc, \n",
    "                     save=save)"
   ]
  },
  {
   "cell_type": "markdown",
   "metadata": {},
   "source": [
    "#### Comparing the reconstructed phase to the simulated values"
   ]
  },
  {
   "cell_type": "code",
   "execution_count": null,
   "metadata": {},
   "outputs": [],
   "source": [
    "# (total phase shift reconstructed) / (magnetic phase shift simulated)\n",
    "(np.max(results[\"phase_m\"])-np.min(results[\"phase_m\"]))/(np.max(mphi)-np.min(mphi))"
   ]
  },
  {
   "cell_type": "markdown",
   "metadata": {},
   "source": [
    "### Single Image TIE (SITIE) Reconstruction \n",
    "Because our simulated is uniformly flat and the only source of contrast in our image is magnetic Fresnel contrast, we can actually reconstruct this dataset with just a single image. \n",
    "For more information see [this paper by Chess et. al](https://doi.org/10.1016/j.ultramic.2017.02.004). "
   ]
  },
  {
   "cell_type": "code",
   "execution_count": null,
   "metadata": {},
   "outputs": [],
   "source": [
    "dataname = 'Example_SITIE_Bloch' \n",
    "sym = False\n",
    "qc = False\n",
    "save = False\n",
    "\n",
    "results = SITIE(ptie, pscope, \n",
    "                     dataname=dataname, \n",
    "                     sym=sym, \n",
    "                     qc=qc, \n",
    "                     save=save,\n",
    "                     i=0) # for i=1 will try to reconstruct the infocus image and won't work. "
   ]
  },
  {
   "cell_type": "markdown",
   "metadata": {
    "heading_collapsed": true
   },
   "source": [
    "# Other single layer skyrmion magnetization structures\n",
    "Here we show an alternate method of defining a skyrmion magnetization structure as defined in [a paper by Lillihook et. al](https://doi.org/10.1016/S1386-9477(97)00013-1)."
   ]
  },
  {
   "cell_type": "code",
   "execution_count": null,
   "metadata": {
    "hidden": true
   },
   "outputs": [],
   "source": [
    "dim = 64\n",
    "Bloch_x2, Bloch_y2, Bloch_z2 = Lillihook(dim, Q=1, gamma=3*np.pi/2)\n",
    "show_3D(Bloch_x2, Bloch_y2, Bloch_z2, show_all=True, l=2, a = 50)"
   ]
  },
  {
   "cell_type": "code",
   "execution_count": null,
   "metadata": {
    "hidden": true,
    "scrolled": false
   },
   "outputs": [],
   "source": [
    "anti_x, anti_y, anti_z = Lillihook(dim, rad=dim//4, Q = -1, show=False)\n",
    "show_3D(anti_x, anti_y, anti_z, show_all = False, l=5, a = 25)\n",
    "show_2D(anti_x, anti_y, l=3, a = 50)"
   ]
  },
  {
   "cell_type": "markdown",
   "metadata": {
    "hidden": true
   },
   "source": [
    "--- End Notebook ---"
   ]
  }
 ],
 "metadata": {
  "kernelspec": {
   "display_name": "Python 3",
   "language": "python",
   "name": "python3"
  },
  "language_info": {
   "codemirror_mode": {
    "name": "ipython",
    "version": 3
   },
   "file_extension": ".py",
   "mimetype": "text/x-python",
   "name": "python",
   "nbconvert_exporter": "python",
   "pygments_lexer": "ipython3",
   "version": "3.7.1"
  },
  "varInspector": {
   "cols": {
    "lenName": 16,
    "lenType": 16,
    "lenVar": 40
   },
   "kernels_config": {
    "python": {
     "delete_cmd_postfix": "",
     "delete_cmd_prefix": "del ",
     "library": "var_list.py",
     "varRefreshCmd": "print(var_dic_list())"
    },
    "r": {
     "delete_cmd_postfix": ") ",
     "delete_cmd_prefix": "rm(",
     "library": "var_list.r",
     "varRefreshCmd": "cat(var_dic_list()) "
    }
   },
   "types_to_exclude": [
    "module",
    "function",
    "builtin_function_or_method",
    "instance",
    "_Feature"
   ],
   "window_display": false
  }
 },
 "nbformat": 4,
 "nbformat_minor": 4
}
